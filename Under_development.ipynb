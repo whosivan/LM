{
 "cells": [
  {
   "cell_type": "code",
   "execution_count": 4,
   "metadata": {
    "collapsed": true
   },
   "outputs": [],
   "source": [
    "import click\n",
    "import pandas as pd\n",
    "import numpy as np"
   ]
  },
  {
   "cell_type": "code",
   "execution_count": 5,
   "metadata": {
    "collapsed": true
   },
   "outputs": [],
   "source": [
    "#add in click commands to allow command line application\n",
    "#@click.command()\n",
    "#@click.ar.."
   ]
  },
  {
   "cell_type": "code",
   "execution_count": 31,
   "metadata": {
    "collapsed": false
   },
   "outputs": [],
   "source": [
    "class LaserMaze():\n",
    "    def __init__(self, inputpath, outputpath):\n",
    "        self.inputpath = inputpath\n",
    "        self.outputpath = outputpath\n",
    "        self.readfile()\n",
    "        self.result = self.move()\n",
    "        self.writefile()\n",
    "        \n",
    "    def readfile(self):\n",
    "    with open('inputfile.txt', 'r') as f:\n",
    "        \"\"\"\n",
    "        read in input file and pre-procoss it before loading into main function\n",
    "        :\n",
    "        \"\"\"\n",
    "        inputf = f.read().split('\\\\n')\n",
    "        for i in range(len(inputf)):\n",
    "            inputf[i] = inputf[i].split(' ')\n",
    "        self.gridsize = list(map(np.int, inputf[0]))\n",
    "        self.location_pair = inputf[1]\n",
    "        self.location_x = eval(self.location_pair[0])\n",
    "        self.location_y = eval(self.location_pair[1])\n",
    "        self.inputf = np.array(inputf[2:])\n",
    "        self.df = pd.DataFrame(self.inputf, columns = ['x', 'y', 'mirror'])\n",
    "        self.df.x = df.x.astype(np.int)\n",
    "        self.df.y = df.y.astype(np.int)\n",
    "    "
   ]
  },
  {
   "cell_type": "code",
   "execution_count": 25,
   "metadata": {
    "collapsed": false
   },
   "outputs": [
    {
     "data": {
      "text/plain": [
       "32"
      ]
     },
     "execution_count": 25,
     "metadata": {},
     "output_type": "execute_result"
    }
   ],
   "source": [
    "maxtraversed = gridsize[0] * gridsize[1] * int(max(gridsize)/2)\n",
    "maxtraversed"
   ]
  },
  {
   "cell_type": "code",
   "execution_count": null,
   "metadata": {
    "collapsed": true
   },
   "outputs": [],
   "source": [
    "traversed = 0\n",
    "while True:\n",
    "    if traversed > maxtraversed:\n",
    "        return -1\n",
    "    else:\n",
    "        if location[2] == 'N':\n",
    "            #try:\n",
    "                #do something\n",
    "            #except: IndexError:\n",
    "        elif location[2] == \"S\":\n",
    "            pass\n",
    "        elif location[3] == \"W\":\n",
    "            pass\n",
    "        elif location[4] == \"E\":\n",
    "            pass\n",
    "\n",
    "                "
   ]
  }
 ],
 "metadata": {
  "anaconda-cloud": {},
  "kernelspec": {
   "display_name": "Python [default]",
   "language": "python",
   "name": "python3"
  },
  "language_info": {
   "codemirror_mode": {
    "name": "ipython",
    "version": 3
   },
   "file_extension": ".py",
   "mimetype": "text/x-python",
   "name": "python",
   "nbconvert_exporter": "python",
   "pygments_lexer": "ipython3",
   "version": "3.5.3"
  }
 },
 "nbformat": 4,
 "nbformat_minor": 2
}
