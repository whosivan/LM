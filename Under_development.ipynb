{
 "cells": [
  {
   "cell_type": "code",
   "execution_count": 1,
   "metadata": {
    "collapsed": true
   },
   "outputs": [],
   "source": [
    "import click\n",
    "import pandas as pd\n",
    "import numpy as np"
   ]
  },
  {
   "cell_type": "code",
   "execution_count": 2,
   "metadata": {
    "collapsed": true
   },
   "outputs": [],
   "source": [
    "#add in click commands to allow command line application\n",
    "#@click.command()\n",
    "#@click.ar.."
   ]
  },
  {
   "cell_type": "code",
   "execution_count": null,
   "metadata": {
    "collapsed": true
   },
   "outputs": [],
   "source": [
    "Class LaserMaze()\n",
    "    #def __init__(self, inputpath, outputpath)\n",
    "    #define variable"
   ]
  },
  {
   "cell_type": "code",
   "execution_count": 3,
   "metadata": {
    "collapsed": true
   },
   "outputs": [],
   "source": [
    "def readfile(data):\n",
    "    with open('inputfile.txt', 'r') as f:\n",
    "        input = f.read().split('\\\\n')\n",
    "        for i in range(len(inputf)):\n",
    "            inputf[i] = inputf[i].split(' ')\n",
    "        location_pair = inputf[1]\n",
    "        location_x = eval(location_pair[0])\n",
    "        location_y = eval(location_pair[1])\n",
    "        inputf = np.array(inputf[2:])\n",
    "        df = pd.DataFrame(inputf, columns = ['x', 'y', 'mirror'])\n",
    "        df.x = df.x.astype(np.int)\n",
    "        df.y = df.y.astype(np.int)"
   ]
  },
  {
   "cell_type": "code",
   "execution_count": null,
   "metadata": {
    "collapsed": true
   },
   "outputs": [],
   "source": []
  }
 ],
 "metadata": {
  "anaconda-cloud": {},
  "kernelspec": {
   "display_name": "Python [default]",
   "language": "python",
   "name": "python3"
  },
  "language_info": {
   "codemirror_mode": {
    "name": "ipython",
    "version": 3
   },
   "file_extension": ".py",
   "mimetype": "text/x-python",
   "name": "python",
   "nbconvert_exporter": "python",
   "pygments_lexer": "ipython3",
   "version": "3.5.3"
  }
 },
 "nbformat": 4,
 "nbformat_minor": 2
}
